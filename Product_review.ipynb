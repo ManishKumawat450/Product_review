{
 "cells": [
  {
   "cell_type": "code",
   "execution_count": 1,
   "id": "fc974ec0",
   "metadata": {},
   "outputs": [],
   "source": [
    "# importing necessary libraries \n",
    "import numpy as np\n",
    "import pandas as pd\n",
    "import matplotlib.pyplot as plt\n",
    "import seaborn as  sns\n",
    "%matplotlib inline"
   ]
  },
  {
   "cell_type": "code",
   "execution_count": 2,
   "id": "18b5213a",
   "metadata": {},
   "outputs": [],
   "source": [
    "# Reading train file.\n",
    "data=pd.read_csv(\"train.csv\")"
   ]
  },
  {
   "cell_type": "code",
   "execution_count": 3,
   "id": "9db827dd",
   "metadata": {},
   "outputs": [
    {
     "data": {
      "text/html": [
       "<div>\n",
       "<style scoped>\n",
       "    .dataframe tbody tr th:only-of-type {\n",
       "        vertical-align: middle;\n",
       "    }\n",
       "\n",
       "    .dataframe tbody tr th {\n",
       "        vertical-align: top;\n",
       "    }\n",
       "\n",
       "    .dataframe thead th {\n",
       "        text-align: right;\n",
       "    }\n",
       "</style>\n",
       "<table border=\"1\" class=\"dataframe\">\n",
       "  <thead>\n",
       "    <tr style=\"text-align: right;\">\n",
       "      <th></th>\n",
       "      <th>asin</th>\n",
       "      <th>sentence</th>\n",
       "      <th>helpful</th>\n",
       "      <th>main_image_url</th>\n",
       "      <th>product_title</th>\n",
       "    </tr>\n",
       "  </thead>\n",
       "  <tbody>\n",
       "    <tr>\n",
       "      <th>0</th>\n",
       "      <td>B000AO3L84</td>\n",
       "      <td>this flash is a superb value.</td>\n",
       "      <td>1.70</td>\n",
       "      <td>http://ecx.images-amazon.com/images/I/41XAEKR9...</td>\n",
       "      <td>Canon 430EX Speedlite Flash for Canon EOS SLR ...</td>\n",
       "    </tr>\n",
       "    <tr>\n",
       "      <th>1</th>\n",
       "      <td>B001SEQPGK</td>\n",
       "      <td>The pictures were not sharp at all.</td>\n",
       "      <td>1.30</td>\n",
       "      <td>http://ecx.images-amazon.com/images/I/71KLvmtc...</td>\n",
       "      <td>Sony Cyber-shot DSC-W290 12 MP Digital Camera ...</td>\n",
       "    </tr>\n",
       "    <tr>\n",
       "      <th>2</th>\n",
       "      <td>0553386697</td>\n",
       "      <td>A very good resource for parents.</td>\n",
       "      <td>1.90</td>\n",
       "      <td>http://ecx.images-amazon.com/images/I/81HdbmkR...</td>\n",
       "      <td>The Whole-Brain Child: 12 Revolutionary Strate...</td>\n",
       "    </tr>\n",
       "    <tr>\n",
       "      <th>3</th>\n",
       "      <td>B006SUWZH2</td>\n",
       "      <td>We have it in a child's room, and will be swit...</td>\n",
       "      <td>0.25</td>\n",
       "      <td>http://ecx.images-amazon.com/images/I/61A2WQOL...</td>\n",
       "      <td>Memorex Portable CD Boombox with AM FM Radio</td>\n",
       "    </tr>\n",
       "    <tr>\n",
       "      <th>4</th>\n",
       "      <td>B000W7F5SS</td>\n",
       "      <td>Again the makers are too lazy to bring in the ...</td>\n",
       "      <td>0.90</td>\n",
       "      <td>http://ecx.images-amazon.com/images/I/91E7TPDb...</td>\n",
       "      <td>Harry Potter and the Order of the Phoenix (Wid...</td>\n",
       "    </tr>\n",
       "    <tr>\n",
       "      <th>...</th>\n",
       "      <td>...</td>\n",
       "      <td>...</td>\n",
       "      <td>...</td>\n",
       "      <td>...</td>\n",
       "      <td>...</td>\n",
       "    </tr>\n",
       "    <tr>\n",
       "      <th>19995</th>\n",
       "      <td>0783225482</td>\n",
       "      <td>Strange plot but well executed.</td>\n",
       "      <td>1.30</td>\n",
       "      <td>http://ecx.images-amazon.com/images/I/51z2Gp2l...</td>\n",
       "      <td>Death Becomes Her</td>\n",
       "    </tr>\n",
       "    <tr>\n",
       "      <th>19996</th>\n",
       "      <td>B0015450T6</td>\n",
       "      <td>It was very easy to assemble and came with a D...</td>\n",
       "      <td>1.40</td>\n",
       "      <td>http://ecx.images-amazon.com/images/I/71zfnZ6b...</td>\n",
       "      <td>MyStudio MS20 Professional Table Top Photo Stu...</td>\n",
       "    </tr>\n",
       "    <tr>\n",
       "      <th>19997</th>\n",
       "      <td>B000002GJH</td>\n",
       "      <td>you won't be ablr to listen to such music qual...</td>\n",
       "      <td>1.20</td>\n",
       "      <td>http://ecx.images-amazon.com/images/I/518P0F1D...</td>\n",
       "      <td>Temple Of The Dog</td>\n",
       "    </tr>\n",
       "    <tr>\n",
       "      <th>19998</th>\n",
       "      <td>B0002MQGR2</td>\n",
       "      <td>but they done work with this splitter</td>\n",
       "      <td>0.70</td>\n",
       "      <td>http://ecx.images-amazon.com/images/I/41UpOLPe...</td>\n",
       "      <td>Optical Splitter</td>\n",
       "    </tr>\n",
       "    <tr>\n",
       "      <th>19999</th>\n",
       "      <td>B00000J0JF</td>\n",
       "      <td>Sturdy construction, well made.</td>\n",
       "      <td>1.70</td>\n",
       "      <td>http://ecx.images-amazon.com/images/I/A1uDIngq...</td>\n",
       "      <td>Ravensburger Labyrinth</td>\n",
       "    </tr>\n",
       "  </tbody>\n",
       "</table>\n",
       "<p>20000 rows × 5 columns</p>\n",
       "</div>"
      ],
      "text/plain": [
       "             asin                                           sentence  helpful  \\\n",
       "0      B000AO3L84                      this flash is a superb value.     1.70   \n",
       "1      B001SEQPGK                The pictures were not sharp at all.     1.30   \n",
       "2      0553386697                  A very good resource for parents.     1.90   \n",
       "3      B006SUWZH2  We have it in a child's room, and will be swit...     0.25   \n",
       "4      B000W7F5SS  Again the makers are too lazy to bring in the ...     0.90   \n",
       "...           ...                                                ...      ...   \n",
       "19995  0783225482                    Strange plot but well executed.     1.30   \n",
       "19996  B0015450T6  It was very easy to assemble and came with a D...     1.40   \n",
       "19997  B000002GJH  you won't be ablr to listen to such music qual...     1.20   \n",
       "19998  B0002MQGR2              but they done work with this splitter     0.70   \n",
       "19999  B00000J0JF                    Sturdy construction, well made.     1.70   \n",
       "\n",
       "                                          main_image_url  \\\n",
       "0      http://ecx.images-amazon.com/images/I/41XAEKR9...   \n",
       "1      http://ecx.images-amazon.com/images/I/71KLvmtc...   \n",
       "2      http://ecx.images-amazon.com/images/I/81HdbmkR...   \n",
       "3      http://ecx.images-amazon.com/images/I/61A2WQOL...   \n",
       "4      http://ecx.images-amazon.com/images/I/91E7TPDb...   \n",
       "...                                                  ...   \n",
       "19995  http://ecx.images-amazon.com/images/I/51z2Gp2l...   \n",
       "19996  http://ecx.images-amazon.com/images/I/71zfnZ6b...   \n",
       "19997  http://ecx.images-amazon.com/images/I/518P0F1D...   \n",
       "19998  http://ecx.images-amazon.com/images/I/41UpOLPe...   \n",
       "19999  http://ecx.images-amazon.com/images/I/A1uDIngq...   \n",
       "\n",
       "                                           product_title  \n",
       "0      Canon 430EX Speedlite Flash for Canon EOS SLR ...  \n",
       "1      Sony Cyber-shot DSC-W290 12 MP Digital Camera ...  \n",
       "2      The Whole-Brain Child: 12 Revolutionary Strate...  \n",
       "3           Memorex Portable CD Boombox with AM FM Radio  \n",
       "4      Harry Potter and the Order of the Phoenix (Wid...  \n",
       "...                                                  ...  \n",
       "19995                                  Death Becomes Her  \n",
       "19996  MyStudio MS20 Professional Table Top Photo Stu...  \n",
       "19997                                  Temple Of The Dog  \n",
       "19998                                   Optical Splitter  \n",
       "19999                             Ravensburger Labyrinth  \n",
       "\n",
       "[20000 rows x 5 columns]"
      ]
     },
     "execution_count": 3,
     "metadata": {},
     "output_type": "execute_result"
    }
   ],
   "source": [
    "data"
   ]
  },
  {
   "cell_type": "code",
   "execution_count": 4,
   "id": "f25e0d15",
   "metadata": {
    "scrolled": true
   },
   "outputs": [
    {
     "data": {
      "text/html": [
       "<div>\n",
       "<style scoped>\n",
       "    .dataframe tbody tr th:only-of-type {\n",
       "        vertical-align: middle;\n",
       "    }\n",
       "\n",
       "    .dataframe tbody tr th {\n",
       "        vertical-align: top;\n",
       "    }\n",
       "\n",
       "    .dataframe thead th {\n",
       "        text-align: right;\n",
       "    }\n",
       "</style>\n",
       "<table border=\"1\" class=\"dataframe\">\n",
       "  <thead>\n",
       "    <tr style=\"text-align: right;\">\n",
       "      <th></th>\n",
       "      <th>asin</th>\n",
       "      <th>sentence</th>\n",
       "      <th>helpful</th>\n",
       "      <th>main_image_url</th>\n",
       "      <th>product_title</th>\n",
       "    </tr>\n",
       "  </thead>\n",
       "  <tbody>\n",
       "    <tr>\n",
       "      <th>0</th>\n",
       "      <td>B000AO3L84</td>\n",
       "      <td>this flash is a superb value.</td>\n",
       "      <td>1.70</td>\n",
       "      <td>http://ecx.images-amazon.com/images/I/41XAEKR9...</td>\n",
       "      <td>Canon 430EX Speedlite Flash for Canon EOS SLR ...</td>\n",
       "    </tr>\n",
       "    <tr>\n",
       "      <th>1</th>\n",
       "      <td>B001SEQPGK</td>\n",
       "      <td>The pictures were not sharp at all.</td>\n",
       "      <td>1.30</td>\n",
       "      <td>http://ecx.images-amazon.com/images/I/71KLvmtc...</td>\n",
       "      <td>Sony Cyber-shot DSC-W290 12 MP Digital Camera ...</td>\n",
       "    </tr>\n",
       "    <tr>\n",
       "      <th>2</th>\n",
       "      <td>0553386697</td>\n",
       "      <td>A very good resource for parents.</td>\n",
       "      <td>1.90</td>\n",
       "      <td>http://ecx.images-amazon.com/images/I/81HdbmkR...</td>\n",
       "      <td>The Whole-Brain Child: 12 Revolutionary Strate...</td>\n",
       "    </tr>\n",
       "    <tr>\n",
       "      <th>3</th>\n",
       "      <td>B006SUWZH2</td>\n",
       "      <td>We have it in a child's room, and will be swit...</td>\n",
       "      <td>0.25</td>\n",
       "      <td>http://ecx.images-amazon.com/images/I/61A2WQOL...</td>\n",
       "      <td>Memorex Portable CD Boombox with AM FM Radio</td>\n",
       "    </tr>\n",
       "    <tr>\n",
       "      <th>4</th>\n",
       "      <td>B000W7F5SS</td>\n",
       "      <td>Again the makers are too lazy to bring in the ...</td>\n",
       "      <td>0.90</td>\n",
       "      <td>http://ecx.images-amazon.com/images/I/91E7TPDb...</td>\n",
       "      <td>Harry Potter and the Order of the Phoenix (Wid...</td>\n",
       "    </tr>\n",
       "  </tbody>\n",
       "</table>\n",
       "</div>"
      ],
      "text/plain": [
       "         asin                                           sentence  helpful  \\\n",
       "0  B000AO3L84                      this flash is a superb value.     1.70   \n",
       "1  B001SEQPGK                The pictures were not sharp at all.     1.30   \n",
       "2  0553386697                  A very good resource for parents.     1.90   \n",
       "3  B006SUWZH2  We have it in a child's room, and will be swit...     0.25   \n",
       "4  B000W7F5SS  Again the makers are too lazy to bring in the ...     0.90   \n",
       "\n",
       "                                      main_image_url  \\\n",
       "0  http://ecx.images-amazon.com/images/I/41XAEKR9...   \n",
       "1  http://ecx.images-amazon.com/images/I/71KLvmtc...   \n",
       "2  http://ecx.images-amazon.com/images/I/81HdbmkR...   \n",
       "3  http://ecx.images-amazon.com/images/I/61A2WQOL...   \n",
       "4  http://ecx.images-amazon.com/images/I/91E7TPDb...   \n",
       "\n",
       "                                       product_title  \n",
       "0  Canon 430EX Speedlite Flash for Canon EOS SLR ...  \n",
       "1  Sony Cyber-shot DSC-W290 12 MP Digital Camera ...  \n",
       "2  The Whole-Brain Child: 12 Revolutionary Strate...  \n",
       "3       Memorex Portable CD Boombox with AM FM Radio  \n",
       "4  Harry Potter and the Order of the Phoenix (Wid...  "
      ]
     },
     "execution_count": 4,
     "metadata": {},
     "output_type": "execute_result"
    }
   ],
   "source": [
    "data.head()"
   ]
  },
  {
   "cell_type": "code",
   "execution_count": 5,
   "id": "0f96d83d",
   "metadata": {},
   "outputs": [
    {
     "data": {
      "text/plain": [
       "Index(['asin', 'sentence', 'helpful', 'main_image_url', 'product_title'], dtype='object')"
      ]
     },
     "execution_count": 5,
     "metadata": {},
     "output_type": "execute_result"
    }
   ],
   "source": [
    "data.columns"
   ]
  },
  {
   "cell_type": "markdown",
   "id": "3226ea4b",
   "metadata": {},
   "source": [
    "Dataset is about colluction of sentences extracted from customer reviews labeled with their helpfulness score.\n",
    "\n",
    "Variable Description\n",
    "\n",
    "1.asin : Amazon Standard Identification Number. \n",
    "\n",
    "2.sentence:The review sentence wrote by customers.\n",
    "\n",
    "3.helpful : A metric indicating the helpfuness of the review.\n",
    "\n",
    "4.main_image_url : URL of images of product.\n",
    "\n",
    "5.product_title : Product title"
   ]
  },
  {
   "cell_type": "code",
   "execution_count": 6,
   "id": "89a04b54",
   "metadata": {},
   "outputs": [
    {
     "name": "stdout",
     "output_type": "stream",
     "text": [
      "<class 'pandas.core.frame.DataFrame'>\n",
      "RangeIndex: 20000 entries, 0 to 19999\n",
      "Data columns (total 5 columns):\n",
      " #   Column          Non-Null Count  Dtype  \n",
      "---  ------          --------------  -----  \n",
      " 0   asin            20000 non-null  object \n",
      " 1   sentence        20000 non-null  object \n",
      " 2   helpful         20000 non-null  float64\n",
      " 3   main_image_url  20000 non-null  object \n",
      " 4   product_title   20000 non-null  object \n",
      "dtypes: float64(1), object(4)\n",
      "memory usage: 781.4+ KB\n"
     ]
    }
   ],
   "source": [
    "data.info()"
   ]
  },
  {
   "cell_type": "code",
   "execution_count": 7,
   "id": "de980f8e",
   "metadata": {},
   "outputs": [
    {
     "data": {
      "text/plain": [
       "asin              0\n",
       "sentence          0\n",
       "helpful           0\n",
       "main_image_url    0\n",
       "product_title     0\n",
       "dtype: int64"
      ]
     },
     "execution_count": 7,
     "metadata": {},
     "output_type": "execute_result"
    }
   ],
   "source": [
    "data.isnull().sum()"
   ]
  },
  {
   "cell_type": "code",
   "execution_count": 8,
   "id": "e181ec13",
   "metadata": {},
   "outputs": [
    {
     "data": {
      "text/plain": [
       "(20000, 5)"
      ]
     },
     "execution_count": 8,
     "metadata": {},
     "output_type": "execute_result"
    }
   ],
   "source": [
    "data.shape"
   ]
  },
  {
   "cell_type": "markdown",
   "id": "677c84b1",
   "metadata": {},
   "source": [
    "IN the data set we have 20000 rows and 5 columns.\n",
    "\n",
    "This dataset seems to contain customer reviews or feedback. Each record includes an Amazon Standard Identification Number (ASIN), the review sentence, helpfulness score, main image URL, and product title.\n",
    "\n",
    "Columns are asin, sentence, helpful, main_image_url, product_title.\n",
    "\n",
    "Columns asin , sentence , main_image_url ,product_title are of object type.\n",
    "helpful is of float type\n",
    "\n",
    "Numerical Variable: helpful.\n",
    "\n",
    "No s missing values in All columns."
   ]
  },
  {
   "cell_type": "code",
   "execution_count": 9,
   "id": "4d38a3f2",
   "metadata": {},
   "outputs": [
    {
     "data": {
      "text/html": [
       "<div>\n",
       "<style scoped>\n",
       "    .dataframe tbody tr th:only-of-type {\n",
       "        vertical-align: middle;\n",
       "    }\n",
       "\n",
       "    .dataframe tbody tr th {\n",
       "        vertical-align: top;\n",
       "    }\n",
       "\n",
       "    .dataframe thead th {\n",
       "        text-align: right;\n",
       "    }\n",
       "</style>\n",
       "<table border=\"1\" class=\"dataframe\">\n",
       "  <thead>\n",
       "    <tr style=\"text-align: right;\">\n",
       "      <th></th>\n",
       "      <th>helpful</th>\n",
       "    </tr>\n",
       "  </thead>\n",
       "  <tbody>\n",
       "    <tr>\n",
       "      <th>count</th>\n",
       "      <td>20000.000000</td>\n",
       "    </tr>\n",
       "    <tr>\n",
       "      <th>mean</th>\n",
       "      <td>1.160864</td>\n",
       "    </tr>\n",
       "    <tr>\n",
       "      <th>std</th>\n",
       "      <td>0.404637</td>\n",
       "    </tr>\n",
       "    <tr>\n",
       "      <th>min</th>\n",
       "      <td>0.000000</td>\n",
       "    </tr>\n",
       "    <tr>\n",
       "      <th>25%</th>\n",
       "      <td>0.900000</td>\n",
       "    </tr>\n",
       "    <tr>\n",
       "      <th>50%</th>\n",
       "      <td>1.200000</td>\n",
       "    </tr>\n",
       "    <tr>\n",
       "      <th>75%</th>\n",
       "      <td>1.500000</td>\n",
       "    </tr>\n",
       "    <tr>\n",
       "      <th>max</th>\n",
       "      <td>2.000000</td>\n",
       "    </tr>\n",
       "  </tbody>\n",
       "</table>\n",
       "</div>"
      ],
      "text/plain": [
       "            helpful\n",
       "count  20000.000000\n",
       "mean       1.160864\n",
       "std        0.404637\n",
       "min        0.000000\n",
       "25%        0.900000\n",
       "50%        1.200000\n",
       "75%        1.500000\n",
       "max        2.000000"
      ]
     },
     "execution_count": 9,
     "metadata": {},
     "output_type": "execute_result"
    }
   ],
   "source": [
    "data.describe()"
   ]
  },
  {
   "cell_type": "markdown",
   "id": "af835abb",
   "metadata": {},
   "source": [
    "**In column helpful the helpful score value range from 0 to 2.**\n",
    "\n",
    "**The  majority score is near around 1.16**\n",
    "\n",
    "**The majority of  data is clustered around the mean and median values, with a relatively narrow spread indicated by the standard deviation.**"
   ]
  },
  {
   "cell_type": "code",
   "execution_count": 10,
   "id": "ee9d73dc",
   "metadata": {},
   "outputs": [
    {
     "name": "stderr",
     "output_type": "stream",
     "text": [
      "C:\\Users\\BALRAM\\AppData\\Local\\Temp\\ipykernel_32128\\3456505498.py:1: UserWarning: \n",
      "\n",
      "`distplot` is a deprecated function and will be removed in seaborn v0.14.0.\n",
      "\n",
      "Please adapt your code to use either `displot` (a figure-level function with\n",
      "similar flexibility) or `histplot` (an axes-level function for histograms).\n",
      "\n",
      "For a guide to updating your code to use the new functions, please see\n",
      "https://gist.github.com/mwaskom/de44147ed2974457ad6372750bbe5751\n",
      "\n",
      "  sns.distplot(data[\"helpful\"])\n"
     ]
    },
    {
     "data": {
      "text/plain": [
       "<Axes: xlabel='helpful', ylabel='Density'>"
      ]
     },
     "execution_count": 10,
     "metadata": {},
     "output_type": "execute_result"
    },
    {
     "data": {
      "image/png": "[encoded data removed]",
      "text/plain": [
       "<Figure size 640x480 with 1 Axes>"
      ]
     },
     "metadata": {},
     "output_type": "display_data"
    }
   ],
   "source": [
    "sns.distplot(data[\"helpful\"])"
   ]
  },
  {
   "cell_type": "code",
   "execution_count": 11,
   "id": "c7f62583",
   "metadata": {},
   "outputs": [
    {
     "data": {
      "image/png": "[encoded data removed]",
      "text/plain": [
       "<Figure size 1200x600 with 1 Axes>"
      ]
     },
     "metadata": {},
     "output_type": "display_data"
    }
   ],
   "source": [
    "import matplotlib\n",
    "from matplotlib  import pyplot\n",
    "%matplotlib inline\n",
    "plt.figure(figsize = (12,6))\n",
    "plt.hist(data[\"helpful\"], bins = 50)\n",
    "plt.xlabel(\"helpful\")\n",
    "plt.ylabel(\"Frequency\")\n",
    "plt.title(\" distribution with hist\")\n",
    "plt.show()"
   ]
  },
  {
   "cell_type": "code",
   "execution_count": 12,
   "id": "faa134f8",
   "metadata": {},
   "outputs": [
    {
     "data": {
      "text/plain": [
       "<Axes: xlabel='helpful'>"
      ]
     },
     "execution_count": 12,
     "metadata": {},
     "output_type": "execute_result"
    },
    {
     "data": {
      "image/png": "[encoded data removed]",
      "text/plain": [
       "<Figure size 640x480 with 1 Axes>"
      ]
     },
     "metadata": {},
     "output_type": "display_data"
    }
   ],
   "source": [
    "sns.boxplot(x=data[\"helpful\"]) #Checking outlier"
   ]
  },
  {
   "cell_type": "markdown",
   "id": "b57e5b6f",
   "metadata": {},
   "source": [
    "**Helpful coulmn in the data having one outiler**\n",
    "\n",
    "**helpful = 0.0**"
   ]
  },
  {
   "cell_type": "code",
   "execution_count": 13,
   "id": "c6a0b491",
   "metadata": {},
   "outputs": [
    {
     "name": "stdout",
     "output_type": "stream",
     "text": [
      "Outliers:\n",
      "             asin                                           sentence  helpful  \\\n",
      "33     014312417X  I've had the pleasure of meeting him once here...      0.0   \n",
      "103    B001DKO7R8                          I was gifted a Nikon D70.      0.0   \n",
      "248    B008FSCNTK                yet it's  not if that makes  sense.      0.0   \n",
      "325    B000NP46K2  (US review)......................................      0.0   \n",
      "423    B000OVLBFS                       and I'll have the whole set.      0.0   \n",
      "476    B000002KB8  Spent a lot of my childhood playing round that...      0.0   \n",
      "477    B00004UFOO                         It is now almost June 23rd      0.0   \n",
      "592    B0006ZOV5E                    but I am able to get into this.      0.0   \n",
      "749    1402241372                        Did I mention HOT Romance ?      0.0   \n",
      "756    B00000FCBH  which I'm sure you haven't even bothered to vi...      0.0   \n",
      "1406   B002NKM4C2           branded.--------------- Original Message      0.0   \n",
      "1415   B00IUAAJY4    I've received one previously from this company.      0.0   \n",
      "2342   B00000FCBH                      but i'd have to say Dear Mama      0.0   \n",
      "2941   B00000F1D3               I am not a very big POP artist lover      0.0   \n",
      "3206   B00BPEJX12  and they took it out of my visa, which put me ...      0.0   \n",
      "3650   B00004RD54               And don't forget the companion disc,      0.0   \n",
      "3684   B001K5UQX0                     [Personal Computers]Condition:      0.0   \n",
      "4358   B00IUAAJY4  She was so looking forward to having her book,...      0.0   \n",
      "4396   B00IUAAJY4                        It was delivered yesterday.      0.0   \n",
      "4597   B00IUAAJY4            I will post again when she has done it.      0.0   \n",
      "5575   B00NAPJ8DM      Thanks for taking the time to read my review.      0.0   \n",
      "5630   B00C30FCUI           All experiences and opinions are my own.      0.0   \n",
      "6337   0375703764                      And what voice--Henry Miller?      0.0   \n",
      "6428   B000ANVPP6  Yes, I misspelled  his last name, but he did m...      0.0   \n",
      "6979   B001196MG0                       I don't know what to do now.      0.0   \n",
      "7130   0375703764                   That's probably my fault though.      0.0   \n",
      "7259   B00081NX5U  I called the police to get someone to look int...      0.0   \n",
      "8928   B00000J0JF              Bought for my 7 year old son for xmas      0.0   \n",
      "9062   0375703764                          Then you will understand.      0.0   \n",
      "9557   B000OVLBFS                          The Operator is Calling]]      0.0   \n",
      "9827   B001K5UQX0    D3100 D3200 D5000 D5100 D5200 D7000 D7100 D7200      0.0   \n",
      "10269  B001196MG0                       What else are you expecting?      0.0   \n",
      "12010  B000ONDRFS       [[VIDEOID:323a45e2fdb6cf2ed5477d0d31ae5137]]      0.0   \n",
      "12040  B0019FHM9M  Ordered on July 16, 2016 - Expected by Jul 26When      0.0   \n",
      "16794  B00C30FCUI                        So, why is wood so special.      0.0   \n",
      "17223  B003IHUHGE                        so, here's succinct review:      0.0   \n",
      "19507  B00023GGHQ                    I'm even open to interpretation      0.0   \n",
      "\n",
      "                                          main_image_url  \\\n",
      "33     http://ecx.images-amazon.com/images/I/71LRdEUO...   \n",
      "103    http://ecx.images-amazon.com/images/I/51T6HPiV...   \n",
      "248    http://ecx.images-amazon.com/images/I/71YGLpEI...   \n",
      "325    http://ecx.images-amazon.com/images/I/41OuPC6m...   \n",
      "423    http://ecx.images-amazon.com/images/I/518hg7ki...   \n",
      "476    http://ecx.images-amazon.com/images/I/81K4W71c...   \n",
      "477    http://ecx.images-amazon.com/images/I/71RDhTip...   \n",
      "592    http://ecx.images-amazon.com/images/I/81nhkvWo...   \n",
      "749    http://ecx.images-amazon.com/images/I/51gMZ3KR...   \n",
      "756    http://ecx.images-amazon.com/images/I/51iQ7z1W...   \n",
      "1406   http://ecx.images-amazon.com/images/I/71sr3Ibo...   \n",
      "1415   http://ecx.images-amazon.com/images/I/71t-qhB6...   \n",
      "2342   http://ecx.images-amazon.com/images/I/51iQ7z1W...   \n",
      "2941   http://ecx.images-amazon.com/images/I/41H0Y95G...   \n",
      "3206   http://ecx.images-amazon.com/images/I/81jxyrC7...   \n",
      "3650   http://ecx.images-amazon.com/images/I/71eihBGD...   \n",
      "3684   http://ecx.images-amazon.com/images/I/51I+oONH...   \n",
      "4358   http://ecx.images-amazon.com/images/I/71t-qhB6...   \n",
      "4396   http://ecx.images-amazon.com/images/I/71t-qhB6...   \n",
      "4597   http://ecx.images-amazon.com/images/I/71t-qhB6...   \n",
      "5575   http://ecx.images-amazon.com/images/I/51iuUDn1...   \n",
      "5630   http://ecx.images-amazon.com/images/I/416HU0yr...   \n",
      "6337   http://ecx.images-amazon.com/images/I/810pcXb+...   \n",
      "6428   http://ecx.images-amazon.com/images/I/51AzKokh...   \n",
      "6979   http://ecx.images-amazon.com/images/I/11+6ow0D...   \n",
      "7130   http://ecx.images-amazon.com/images/I/810pcXb+...   \n",
      "7259   http://ecx.images-amazon.com/images/I/51GQZT32...   \n",
      "8928   http://ecx.images-amazon.com/images/I/A1uDIngq...   \n",
      "9062   http://ecx.images-amazon.com/images/I/810pcXb+...   \n",
      "9557   http://ecx.images-amazon.com/images/I/518hg7ki...   \n",
      "9827   http://ecx.images-amazon.com/images/I/51I+oONH...   \n",
      "10269  http://ecx.images-amazon.com/images/I/11+6ow0D...   \n",
      "12010  http://ecx.images-amazon.com/images/I/81CofGfT...   \n",
      "12040  http://ecx.images-amazon.com/images/I/41naHn2F...   \n",
      "16794  http://ecx.images-amazon.com/images/I/416HU0yr...   \n",
      "17223  http://ecx.images-amazon.com/images/I/71mkuO-o...   \n",
      "19507  http://ecx.images-amazon.com/images/I/71wSUy+V...   \n",
      "\n",
      "                                           product_title  \n",
      "33                                               Mastery  \n",
      "103    SD/SDHC/MMC/Eye-Fi card to Compact Flash CF Ty...  \n",
      "248                                        Glad Rag Doll  \n",
      "325    Canon EF 16-35mm f/2.8L II USM Ultra Wide Angl...  \n",
      "423                           Jesse Stone: Night Passage  \n",
      "476                                        Black Sabbath  \n",
      "477                          Crayola Washable Super Tips  \n",
      "592                                          Room Noises  \n",
      "749                                       The Winter Sea  \n",
      "756                                   2Pac Greatest Hits  \n",
      "1406          Yamaha CD-C600BL 5-Disc CD Changer (Black)  \n",
      "1415                     Lulu Jr. Illustory -  Craft Kit  \n",
      "2342                                  2Pac Greatest Hits  \n",
      "2941                                             Believe  \n",
      "3206                           The World's End [Blu-ray]  \n",
      "3650                         Rock 'n' Roll Animal (Live)  \n",
      "3684   Opteka 0.20X Professional Super AF Fisheye Len...  \n",
      "4358                     Lulu Jr. Illustory -  Craft Kit  \n",
      "4396                     Lulu Jr. Illustory -  Craft Kit  \n",
      "4597                     Lulu Jr. Illustory -  Craft Kit  \n",
      "5575   Building Bricks - 1000 pc Bulk Blocks w 54 Roo...  \n",
      "5630   Symphonized NRG Premium Genuine Wood In-ear No...  \n",
      "6337                                     House of Leaves  \n",
      "6428                                 Hondo (Full Screen)  \n",
      "6979   Savage 107X12-1 Seamless Background Paper, 107...  \n",
      "7130                                     House of Leaves  \n",
      "7259                          iPod Detachable Receiver 7  \n",
      "8928                              Ravensburger Labyrinth  \n",
      "9062                                     House of Leaves  \n",
      "9557                          Jesse Stone: Night Passage  \n",
      "9827   Opteka 0.20X Professional Super AF Fisheye Len...  \n",
      "10269  Savage 107X12-1 Seamless Background Paper, 107...  \n",
      "12010                               Flip Video Camcorder  \n",
      "12040  Lowpricenice MH2001 5-in-1 Wireless Headphones...  \n",
      "16794  Symphonized NRG Premium Genuine Wood In-ear No...  \n",
      "17223             Bowers & Wilkins P5 Headphones - Black  \n",
      "19507                                          De-Lovely  \n"
     ]
    }
   ],
   "source": [
    "# Calculate statistical measures to identify outliers\n",
    "Q1 = np.percentile(data[\"helpful\"], 25)\n",
    "Q2 = np.percentile(data[\"helpful\"], 75)\n",
    "IQR = Q2 - Q1\n",
    "\n",
    "# Define the outlier boundaries\n",
    "lower_bound = Q1 - 1.5 * IQR\n",
    "upper_bound = Q2 + 1.5 * IQR\n",
    "\n",
    "# Identify outliers\n",
    "outliers = data[(data[\"helpful\"] < lower_bound) | (data[\"helpful\"] > upper_bound)]\n",
    "\n",
    "# Print  the outliers\n",
    "print(\"Outliers:\")\n",
    "print(outliers)\n"
   ]
  },
  {
   "cell_type": "code",
   "execution_count": 14,
   "id": "44be95b7",
   "metadata": {},
   "outputs": [
    {
     "data": {
      "text/plain": [
       "(123,)"
      ]
     },
     "execution_count": 14,
     "metadata": {},
     "output_type": "execute_result"
    }
   ],
   "source": [
    "q=data[\"asin\"]\n",
    "a=q.unique()\n",
    "a.shape"
   ]
  },
  {
   "cell_type": "code",
   "execution_count": 15,
   "id": "537dd5dd",
   "metadata": {},
   "outputs": [
    {
     "data": {
      "text/plain": [
       "(123,)"
      ]
     },
     "execution_count": 15,
     "metadata": {},
     "output_type": "execute_result"
    }
   ],
   "source": [
    "q=data[\"product_title\"]\n",
    "p=q.unique()\n",
    "p.shape"
   ]
  },
  {
   "cell_type": "markdown",
   "id": "9b72e8bd",
   "metadata": {},
   "source": [
    "There are Total 123 products are there in the dataset"
   ]
  },
  {
   "cell_type": "markdown",
   "id": "98af844b",
   "metadata": {},
   "source": [
    "**Performing PCA on data**"
   ]
  },
  {
   "cell_type": "code",
   "execution_count": 25,
   "id": "ee435468",
   "metadata": {
    "scrolled": false
   },
   "outputs": [
    {
     "name": "stdout",
     "output_type": "stream",
     "text": [
      "0          0\n",
      "1          0\n",
      "2          0\n",
      "3          0\n",
      "helpful    0\n",
      "dtype: int64\n",
      "[[-1.33269941e+00 -6.75187815e-01]\n",
      " [-3.43871615e-01  1.99987154e+00]\n",
      " [-1.82711331e+00 -6.79298660e-01]\n",
      " ...\n",
      " [-9.67223479e-02  1.39447053e-15]\n",
      " [ 1.13898279e+00 -1.64340360e-14]\n",
      " [-1.33242748e+00  1.92250021e-14]]\n",
      "\n",
      "Explained_variance\n",
      "\n"
     ]
    },
    {
     "data": {
      "image/png": "[encoded data removed]",
      "text/plain": [
       "<Figure size 640x480 with 1 Axes>"
      ]
     },
     "metadata": {},
     "output_type": "display_data"
    }
   ],
   "source": [
    "from sklearn.feature_extraction.text import TfidfVectorizer\n",
    "from sklearn.decomposition import PCA\n",
    "from sklearn.preprocessing import StandardScaler\n",
    "#columns having text data\n",
    "text_data = data[['sentence', 'asin', 'main_image_url', 'product_title']]\n",
    "#changing text data into vectors\n",
    "vectorizer = TfidfVectorizer( )  \n",
    "X_text = vectorizer.fit_transform(text_data)\n",
    "\n",
    "X_combined = pd.concat([pd.DataFrame(X_text.toarray()), data['helpful']], axis=1)\n",
    "\n",
    "X_combined.columns = X_combined.columns.astype(str)\n",
    "scaler = StandardScaler()\n",
    "X_combined_scaled = scaler.fit_transform(X_combined)\n",
    "\n",
    "X_combined_scaled_df = pd.DataFrame(X_combined_scaled, columns=X_combined.columns)\n",
    "\n",
    "X_combined_scaled_df.fillna(X_combined_scaled_df.mean(), inplace=True)\n",
    "\n",
    "missing_values = X_combined_scaled_df.isnull().sum()\n",
    "\n",
    "print(missing_values)\n",
    "\n",
    "pca = PCA(n_components=2)  \n",
    "X_pca = pca.fit_transform(X_combined_scaled_df)\n",
    "\n",
    "print(X_pca)\n",
    "print(\"\\nExplained_variance\\n\")\n",
    "pca.explained_variance_\n",
    "sns.scatterplot(x=X_pca[: ,0],y=X_pca[:,1])\n",
    "plt.xlabel(\"Feature 0\")\n",
    "plt.ylabel(\"Feature 1\")\n",
    "plt.title(\"PCA\")\n",
    "plt.show()"
   ]
  },
  {
   "cell_type": "markdown",
   "id": "8de1d43e",
   "metadata": {},
   "source": [
    "PCA reduce the dimensionality of a dataset and visualize it in a 2D space defined by the two principal components that capture the most variance in the data."
   ]
  },
  {
   "cell_type": "markdown",
   "id": "1655a685",
   "metadata": {},
   "source": [
    "**Performing SVD on Dataset**"
   ]
  },
  {
   "cell_type": "code",
   "execution_count": 29,
   "id": "494d2160",
   "metadata": {},
   "outputs": [
    {
     "name": "stdout",
     "output_type": "stream",
     "text": [
      "0          0\n",
      "1          0\n",
      "2          0\n",
      "3          0\n",
      "helpful    0\n",
      "dtype: int64\n",
      "[[-1.33269941e+00 -6.75187638e-01]\n",
      " [-3.43871615e-01  1.99987154e+00]\n",
      " [-1.82711331e+00 -6.79298815e-01]\n",
      " ...\n",
      " [-9.67223479e-02 -7.32381320e-16]\n",
      " [ 1.13898279e+00  8.62437414e-15]\n",
      " [-1.33242748e+00 -1.00891368e-14]]\n"
     ]
    },
    {
     "data": {
      "image/png": "[encoded data removed]",
      "text/plain": [
       "<Figure size 640x480 with 1 Axes>"
      ]
     },
     "metadata": {},
     "output_type": "display_data"
    }
   ],
   "source": [
    "from sklearn.feature_extraction.text import TfidfVectorizer\n",
    "from sklearn.decomposition import TruncatedSVD\n",
    "from sklearn.preprocessing import StandardScaler\n",
    "\n",
    "text_data = data[['sentence', 'asin', 'main_image_url', 'product_title']]\n",
    "\n",
    "vectorizer = TfidfVectorizer( )  \n",
    "X_text = vectorizer.fit_transform(text_data)\n",
    "\n",
    "X_combined = pd.concat([pd.DataFrame(X_text.toarray()), data['helpful']], axis=1)\n",
    "\n",
    "X_combined.columns = X_combined.columns.astype(str)\n",
    "scaler = StandardScaler()\n",
    "X_combined_scaled = scaler.fit_transform(X_combined)\n",
    "\n",
    "X_combined_scaled_df = pd.DataFrame(X_combined_scaled, columns=X_combined.columns)\n",
    "X_combined_scaled_df.fillna(X_combined_scaled_df.mean(), inplace=True)\n",
    "missing_values = X_combined_scaled_df.isnull().sum()\n",
    "\n",
    "print(missing_values)\n",
    "\n",
    "svd = TruncatedSVD(n_components=2) \n",
    "X_svd = svd.fit_transform(X_combined_scaled_df)\n",
    "\n",
    "print(X_svd)\n",
    "\n",
    "sns.scatterplot(x=X_svd[: ,0],y=X_svd[:,1] )\n",
    "plt.xlabel(\"Feature 0\")\n",
    "plt.ylabel(\"Feature 1\")\n",
    "plt.title(\"SVD\")\n",
    "plt.show()"
   ]
  },
  {
   "cell_type": "markdown",
   "id": "7270977c",
   "metadata": {},
   "source": [
    "**The dimensionality reduction using SVD has reduced the number of features from the original number to 2, which makes it easier to visualize and analyze the data.\n",
    "The scatter plot shows the distribution of the data in the first two dimensions, which can help in identifying any patterns or clusters in the data.** "
   ]
  },
  {
   "cell_type": "code",
   "execution_count": null,
   "id": "235345ff",
   "metadata": {},
   "outputs": [],
   "source": []
  }
 ],
 "metadata": {
  "kernelspec": {
   "display_name": "Python 3 (ipykernel)",
   "language": "python",
   "name": "python3"
  },
  "language_info": {
   "codemirror_mode": {
    "name": "ipython",
    "version": 3
   },
   "file_extension": ".py",
   "mimetype": "text/x-python",
   "name": "python",
   "nbconvert_exporter": "python",
   "pygments_lexer": "ipython3",
   "version": "3.11.5"
  }
 },
 "nbformat": 4,
 "nbformat_minor": 5
}
